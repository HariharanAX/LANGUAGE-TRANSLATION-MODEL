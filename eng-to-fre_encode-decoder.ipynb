{
 "cells": [
  {
   "cell_type": "code",
   "execution_count": 2,
   "id": "fuzzy-annotation",
   "metadata": {
    "_cell_guid": "b1076dfc-b9ad-4769-8c92-a6c4dae69d19",
    "_uuid": "8f2839f25d086af736a60e9eeb907d3b93b6e0e5",
    "execution": {
     "iopub.execute_input": "2021-04-24T13:27:49.707606Z",
     "iopub.status.busy": "2021-04-24T13:27:49.706344Z",
     "iopub.status.idle": "2021-04-24T13:27:49.734942Z",
     "shell.execute_reply": "2021-04-24T13:27:49.735872Z"
    },
    "id": "fuzzy-annotation",
    "papermill": {
     "duration": 0.058225,
     "end_time": "2021-04-24T13:27:49.736304",
     "exception": false,
     "start_time": "2021-04-24T13:27:49.678079",
     "status": "completed"
    },
    "tags": []
   },
   "outputs": [],
   "source": [
    "import numpy as np\n",
    "import pandas as pd "
   ]
  },
  {
   "cell_type": "code",
   "execution_count": 3,
   "id": "friendly-halloween",
   "metadata": {
    "execution": {
     "iopub.execute_input": "2021-04-24T13:27:49.793333Z",
     "iopub.status.busy": "2021-04-24T13:27:49.792493Z",
     "iopub.status.idle": "2021-04-24T13:27:59.331751Z",
     "shell.execute_reply": "2021-04-24T13:27:59.332298Z"
    },
    "id": "friendly-halloween",
    "papermill": {
     "duration": 9.569277,
     "end_time": "2021-04-24T13:27:59.332494",
     "exception": false,
     "start_time": "2021-04-24T13:27:49.763217",
     "status": "completed"
    },
    "tags": []
   },
   "outputs": [
    {
     "name": "stdout",
     "output_type": "stream",
     "text": [
      "WARNING:tensorflow:From d:\\Final project\\env\\Lib\\site-packages\\keras\\src\\losses.py:2976: The name tf.losses.sparse_softmax_cross_entropy is deprecated. Please use tf.compat.v1.losses.sparse_softmax_cross_entropy instead.\n",
      "\n"
     ]
    }
   ],
   "source": [
    "import tensorflow as tf\n",
    "from tensorflow import keras\n",
    "\n",
    "import re\n",
    "from nltk.corpus import stopwords\n",
    "\n",
    "from keras.preprocessing.text import Tokenizer\n",
    "from keras.preprocessing.sequence import pad_sequences\n",
    "\n",
    "import matplotlib.pyplot as plt\n",
    "import seaborn as sns\n",
    "sns.set_style(\"darkgrid\")"
   ]
  },
  {
   "cell_type": "markdown",
   "id": "israeli-communications",
   "metadata": {
    "id": "israeli-communications",
    "papermill": {
     "duration": 0.022572,
     "end_time": "2021-04-24T13:27:59.379392",
     "exception": false,
     "start_time": "2021-04-24T13:27:59.356820",
     "status": "completed"
    },
    "tags": []
   },
   "source": [
    "**1.Load Dataset**"
   ]
  },
  {
   "cell_type": "code",
   "execution_count": 4,
   "id": "included-butter",
   "metadata": {
    "colab": {
     "base_uri": "https://localhost:8080/",
     "height": 362
    },
    "execution": {
     "iopub.execute_input": "2021-04-24T13:27:59.430958Z",
     "iopub.status.busy": "2021-04-24T13:27:59.429966Z",
     "iopub.status.idle": "2021-04-24T13:28:00.095808Z",
     "shell.execute_reply": "2021-04-24T13:28:00.097447Z"
    },
    "id": "included-butter",
    "outputId": "be65e7a8-1428-4570-b28f-2d0bee5fb78c",
    "papermill": {
     "duration": 0.694241,
     "end_time": "2021-04-24T13:28:00.097681",
     "exception": false,
     "start_time": "2021-04-24T13:27:59.403440",
     "status": "completed"
    },
    "tags": []
   },
   "outputs": [
    {
     "name": "stdout",
     "output_type": "stream",
     "text": [
      "                   english                  french\n",
      "0  English words/sentences  French words/sentences\n",
      "1                      Hi.                  Salut!\n",
      "2                     Run!                 Cours !\n",
      "3                     Run!                Courez !\n",
      "4                     Who?                   Qui ?\n",
      "\n",
      "\n",
      " Shape of the data >>(175622, 2)\n"
     ]
    },
    {
     "data": {
      "text/html": [
       "<div>\n",
       "<style scoped>\n",
       "    .dataframe tbody tr th:only-of-type {\n",
       "        vertical-align: middle;\n",
       "    }\n",
       "\n",
       "    .dataframe tbody tr th {\n",
       "        vertical-align: top;\n",
       "    }\n",
       "\n",
       "    .dataframe thead th {\n",
       "        text-align: right;\n",
       "    }\n",
       "</style>\n",
       "<table border=\"1\" class=\"dataframe\">\n",
       "  <thead>\n",
       "    <tr style=\"text-align: right;\">\n",
       "      <th></th>\n",
       "      <th>english</th>\n",
       "      <th>french</th>\n",
       "    </tr>\n",
       "  </thead>\n",
       "  <tbody>\n",
       "    <tr>\n",
       "      <th>133908</th>\n",
       "      <td>I'd rather do this without your help.</td>\n",
       "      <td>Je préférerais le faire sans votre aide.</td>\n",
       "    </tr>\n",
       "    <tr>\n",
       "      <th>32196</th>\n",
       "      <td>We don't understand.</td>\n",
       "      <td>Nous ne comprenons pas.</td>\n",
       "    </tr>\n",
       "    <tr>\n",
       "      <th>155937</th>\n",
       "      <td>I suggest you do your job and let me do mine.</td>\n",
       "      <td>Je suggère que tu fasses ton boulot et me lais...</td>\n",
       "    </tr>\n",
       "    <tr>\n",
       "      <th>122273</th>\n",
       "      <td>This week is Fire Prevention Week.</td>\n",
       "      <td>Cette semaine est la semaine de prévention des...</td>\n",
       "    </tr>\n",
       "    <tr>\n",
       "      <th>89978</th>\n",
       "      <td>I know it's important to you.</td>\n",
       "      <td>Je sais que c'est important pour vous.</td>\n",
       "    </tr>\n",
       "  </tbody>\n",
       "</table>\n",
       "</div>"
      ],
      "text/plain": [
       "                                              english  \\\n",
       "133908          I'd rather do this without your help.   \n",
       "32196                            We don't understand.   \n",
       "155937  I suggest you do your job and let me do mine.   \n",
       "122273             This week is Fire Prevention Week.   \n",
       "89978                   I know it's important to you.   \n",
       "\n",
       "                                                   french  \n",
       "133908           Je préférerais le faire sans votre aide.  \n",
       "32196                             Nous ne comprenons pas.  \n",
       "155937  Je suggère que tu fasses ton boulot et me lais...  \n",
       "122273  Cette semaine est la semaine de prévention des...  \n",
       "89978              Je sais que c'est important pour vous.  "
      ]
     },
     "execution_count": 4,
     "metadata": {},
     "output_type": "execute_result"
    }
   ],
   "source": [
    "df = pd.read_csv(r\"C:\\Users\\LENOVO\\Downloads\\archive (5)\\eng_-french.csv\",names=['english','french'])\n",
    "print(df.head(5))\n",
    "\n",
    "print(f\"\\n\\n Shape of the data >>{df.shape}\")\n",
    "df.sample(5)"
   ]
  },
  {
   "cell_type": "markdown",
   "id": "first-vitamin",
   "metadata": {
    "id": "first-vitamin",
    "papermill": {
     "duration": 0.032178,
     "end_time": "2021-04-24T13:28:00.163423",
     "exception": false,
     "start_time": "2021-04-24T13:28:00.131245",
     "status": "completed"
    },
    "tags": []
   },
   "source": [
    "**2.Check Dataset**\n",
    "* duplicates\n",
    "* NA values"
   ]
  },
  {
   "cell_type": "code",
   "execution_count": 5,
   "id": "tutorial-investigation",
   "metadata": {
    "colab": {
     "base_uri": "https://localhost:8080/"
    },
    "execution": {
     "iopub.execute_input": "2021-04-24T13:28:00.219625Z",
     "iopub.status.busy": "2021-04-24T13:28:00.218576Z",
     "iopub.status.idle": "2021-04-24T13:28:00.677022Z",
     "shell.execute_reply": "2021-04-24T13:28:00.677561Z"
    },
    "id": "tutorial-investigation",
    "outputId": "0a869423-3c13-4047-87af-c12daf2f7ce4",
    "papermill": {
     "duration": 0.488392,
     "end_time": "2021-04-24T13:28:00.677740",
     "exception": false,
     "start_time": "2021-04-24T13:28:00.189348",
     "status": "completed"
    },
    "tags": []
   },
   "outputs": [
    {
     "name": "stdout",
     "output_type": "stream",
     "text": [
      "Unique values before dropping duplicates\n",
      "123101\n",
      "165976\n",
      "\n",
      "\n",
      "Unique values before dropping duplicates\n",
      "116544\n",
      "116544\n"
     ]
    }
   ],
   "source": [
    "print(\"Unique values before dropping duplicates\")\n",
    "print(df.english.nunique())\n",
    "print(df.french.nunique())\n",
    "\n",
    "df.drop_duplicates(subset=['english'],inplace=True)\n",
    "df.drop_duplicates(subset=['french'],inplace=True)\n",
    "\n",
    "print(\"\\n\\nUnique values before dropping duplicates\")\n",
    "print(df.english.nunique())\n",
    "print(df.french.nunique())"
   ]
  },
  {
   "cell_type": "code",
   "execution_count": 6,
   "id": "homeless-malawi",
   "metadata": {
    "colab": {
     "base_uri": "https://localhost:8080/"
    },
    "execution": {
     "iopub.execute_input": "2021-04-24T13:28:00.732491Z",
     "iopub.status.busy": "2021-04-24T13:28:00.731305Z",
     "iopub.status.idle": "2021-04-24T13:28:00.790279Z",
     "shell.execute_reply": "2021-04-24T13:28:00.789617Z"
    },
    "id": "homeless-malawi",
    "outputId": "0e404fd0-29f6-4423-da12-b40a786f9e5c",
    "papermill": {
     "duration": 0.087442,
     "end_time": "2021-04-24T13:28:00.790442",
     "exception": false,
     "start_time": "2021-04-24T13:28:00.703000",
     "status": "completed"
    },
    "tags": []
   },
   "outputs": [
    {
     "name": "stdout",
     "output_type": "stream",
     "text": [
      "Checking NA values\n",
      "\n",
      "english    False\n",
      "french     False\n",
      "dtype: bool \n",
      "\n",
      "english    0\n",
      "french     0\n",
      "dtype: int64\n"
     ]
    }
   ],
   "source": [
    "print(\"Checking NA values\\n\")\n",
    "print(df.isnull().any(),'\\n')\n",
    "print(df.isnull().sum())"
   ]
  },
  {
   "cell_type": "markdown",
   "id": "czech-attention",
   "metadata": {
    "id": "czech-attention",
    "papermill": {
     "duration": 0.026205,
     "end_time": "2021-04-24T13:28:00.843974",
     "exception": false,
     "start_time": "2021-04-24T13:28:00.817769",
     "status": "completed"
    },
    "tags": []
   },
   "source": [
    "**3.Preprocessing Text**\n",
    "* lowercase for both\n",
    "* drop stopwords for only english -> let's not remove stopwords\n",
    "* drop .'!#$%&\\'()*+,-./:;<=>?@[\\\\]^ `{|}~\n",
    "* switch contractions for eng\n"
   ]
  },
  {
   "cell_type": "code",
   "execution_count": 7,
   "id": "latter-approach",
   "metadata": {
    "colab": {
     "base_uri": "https://localhost:8080/",
     "height": 255
    },
    "execution": {
     "iopub.execute_input": "2021-04-24T13:28:00.908977Z",
     "iopub.status.busy": "2021-04-24T13:28:00.908195Z",
     "iopub.status.idle": "2021-04-24T13:28:00.913162Z",
     "shell.execute_reply": "2021-04-24T13:28:00.913648Z"
    },
    "id": "latter-approach",
    "outputId": "f2b4b2cb-6ef6-41f6-c9aa-bb189ba76c21",
    "papermill": {
     "duration": 0.042546,
     "end_time": "2021-04-24T13:28:00.913859",
     "exception": false,
     "start_time": "2021-04-24T13:28:00.871313",
     "status": "completed"
    },
    "tags": []
   },
   "outputs": [
    {
     "name": "stdout",
     "output_type": "stream",
     "text": [
      "before preprocessing\n"
     ]
    },
    {
     "data": {
      "text/html": [
       "<div>\n",
       "<style scoped>\n",
       "    .dataframe tbody tr th:only-of-type {\n",
       "        vertical-align: middle;\n",
       "    }\n",
       "\n",
       "    .dataframe tbody tr th {\n",
       "        vertical-align: top;\n",
       "    }\n",
       "\n",
       "    .dataframe thead th {\n",
       "        text-align: right;\n",
       "    }\n",
       "</style>\n",
       "<table border=\"1\" class=\"dataframe\">\n",
       "  <thead>\n",
       "    <tr style=\"text-align: right;\">\n",
       "      <th></th>\n",
       "      <th>english</th>\n",
       "      <th>french</th>\n",
       "    </tr>\n",
       "  </thead>\n",
       "  <tbody>\n",
       "    <tr>\n",
       "      <th>175616</th>\n",
       "      <td>We need to uphold laws against discrimination ...</td>\n",
       "      <td>Nous devons faire respecter les lois contre la...</td>\n",
       "    </tr>\n",
       "    <tr>\n",
       "      <th>175617</th>\n",
       "      <td>Top-down economics never works, said Obama. \"T...</td>\n",
       "      <td>« L'économie en partant du haut vers le bas, ç...</td>\n",
       "    </tr>\n",
       "    <tr>\n",
       "      <th>175618</th>\n",
       "      <td>A carbon footprint is the amount of carbon dio...</td>\n",
       "      <td>Une empreinte carbone est la somme de pollutio...</td>\n",
       "    </tr>\n",
       "    <tr>\n",
       "      <th>175619</th>\n",
       "      <td>Death is something that we're often discourage...</td>\n",
       "      <td>La mort est une chose qu'on nous décourage sou...</td>\n",
       "    </tr>\n",
       "    <tr>\n",
       "      <th>175620</th>\n",
       "      <td>Since there are usually multiple websites on a...</td>\n",
       "      <td>Puisqu'il y a de multiples sites web sur chaqu...</td>\n",
       "    </tr>\n",
       "    <tr>\n",
       "      <th>175621</th>\n",
       "      <td>If someone who doesn't know your background sa...</td>\n",
       "      <td>Si quelqu'un qui ne connaît pas vos antécédent...</td>\n",
       "    </tr>\n",
       "  </tbody>\n",
       "</table>\n",
       "</div>"
      ],
      "text/plain": [
       "                                                  english  \\\n",
       "175616  We need to uphold laws against discrimination ...   \n",
       "175617  Top-down economics never works, said Obama. \"T...   \n",
       "175618  A carbon footprint is the amount of carbon dio...   \n",
       "175619  Death is something that we're often discourage...   \n",
       "175620  Since there are usually multiple websites on a...   \n",
       "175621  If someone who doesn't know your background sa...   \n",
       "\n",
       "                                                   french  \n",
       "175616  Nous devons faire respecter les lois contre la...  \n",
       "175617  « L'économie en partant du haut vers le bas, ç...  \n",
       "175618  Une empreinte carbone est la somme de pollutio...  \n",
       "175619  La mort est une chose qu'on nous décourage sou...  \n",
       "175620  Puisqu'il y a de multiples sites web sur chaqu...  \n",
       "175621  Si quelqu'un qui ne connaît pas vos antécédent...  "
      ]
     },
     "execution_count": 7,
     "metadata": {},
     "output_type": "execute_result"
    }
   ],
   "source": [
    "print(\"before preprocessing\")\n",
    "df.tail(6)"
   ]
  },
  {
   "cell_type": "code",
   "execution_count": 8,
   "id": "78MAu6aMnGXl",
   "metadata": {
    "colab": {
     "base_uri": "https://localhost:8080/"
    },
    "id": "78MAu6aMnGXl",
    "outputId": "d8f9428f-4e10-496f-c5ef-52090b45059e"
   },
   "outputs": [
    {
     "name": "stdout",
     "output_type": "stream",
     "text": [
      "Requirement already satisfied: nltk in d:\\final project\\env\\lib\\site-packages (3.8.1)\n",
      "Requirement already satisfied: click in d:\\final project\\env\\lib\\site-packages (from nltk) (8.1.7)\n",
      "Requirement already satisfied: joblib in d:\\final project\\env\\lib\\site-packages (from nltk) (1.3.2)\n",
      "Requirement already satisfied: regex>=2021.8.3 in d:\\final project\\env\\lib\\site-packages (from nltk) (2023.12.25)\n",
      "Requirement already satisfied: tqdm in d:\\final project\\env\\lib\\site-packages (from nltk) (4.66.1)\n",
      "Requirement already satisfied: colorama in d:\\final project\\env\\lib\\site-packages (from click->nltk) (0.4.6)\n"
     ]
    },
    {
     "name": "stderr",
     "output_type": "stream",
     "text": [
      "\n",
      "[notice] A new release of pip is available: 23.1.2 -> 23.3.2\n",
      "[notice] To update, run: python.exe -m pip install --upgrade pip\n"
     ]
    }
   ],
   "source": [
    "!pip install nltk"
   ]
  },
  {
   "cell_type": "code",
   "execution_count": 9,
   "id": "JCNeCE4KnNiM",
   "metadata": {
    "colab": {
     "base_uri": "https://localhost:8080/"
    },
    "id": "JCNeCE4KnNiM",
    "outputId": "b332d01a-84f2-4d52-9dab-81026a6e412a"
   },
   "outputs": [
    {
     "name": "stderr",
     "output_type": "stream",
     "text": [
      "[nltk_data] Downloading package stopwords to\n",
      "[nltk_data]     C:\\Users\\LENOVO\\AppData\\Roaming\\nltk_data...\n",
      "[nltk_data]   Package stopwords is already up-to-date!\n"
     ]
    },
    {
     "data": {
      "text/plain": [
       "True"
      ]
     },
     "execution_count": 9,
     "metadata": {},
     "output_type": "execute_result"
    }
   ],
   "source": [
    "import nltk\n",
    "nltk.download('stopwords')\n"
   ]
  },
  {
   "cell_type": "code",
   "execution_count": 10,
   "id": "matched-polyester",
   "metadata": {
    "execution": {
     "iopub.execute_input": "2021-04-24T13:28:00.985279Z",
     "iopub.status.busy": "2021-04-24T13:28:00.979597Z",
     "iopub.status.idle": "2021-04-24T13:28:01.014098Z",
     "shell.execute_reply": "2021-04-24T13:28:01.014739Z"
    },
    "id": "matched-polyester",
    "papermill": {
     "duration": 0.071789,
     "end_time": "2021-04-24T13:28:01.014957",
     "exception": false,
     "start_time": "2021-04-24T13:28:00.943168",
     "status": "completed"
    },
    "tags": []
   },
   "outputs": [],
   "source": [
    "contractions = {\"ain't\": \"is not\", \"aren't\": \"are not\",\"can't\": \"cannot\", \"'cause\": \"because\", \"could've\": \"could have\", \"couldn't\": \"could not\", \"didn't\": \"did not\",  \"doesn't\": \"does not\", \"don't\": \"do not\", \"hadn't\": \"had not\", \"hasn't\": \"has not\", \"haven't\": \"have not\", \"he'd\": \"he would\",\"he'll\": \"he will\", \"he's\": \"he is\", \"how'd\": \"how did\", \"how'd'y\": \"how do you\", \"how'll\": \"how will\", \"how's\": \"how is\", \"I'd\": \"I would\", \"I'd've\": \"I would have\", \"I'll\": \"I will\", \"I'll've\": \"I will have\",\"I'm\": \"I am\", \"I've\": \"I have\", \"i'd\": \"i would\", \"i'd've\": \"i would have\", \"i'll\": \"i will\",  \"i'll've\": \"i will have\",\"i'm\": \"i am\", \"i've\": \"i have\", \"isn't\": \"is not\", \"it'd\": \"it would\", \"it'd've\": \"it would have\", \"it'll\": \"it will\", \"it'll've\": \"it will have\",\"it's\": \"it is\", \"let's\": \"let us\", \"ma'am\": \"madam\", \"mayn't\": \"may not\", \"might've\": \"might have\",\"mightn't\": \"might not\",\"mightn't've\": \"might not have\", \"must've\": \"must have\", \"mustn't\": \"must not\", \"mustn't've\": \"must not have\", \"needn't\": \"need not\", \"needn't've\": \"need not have\",\"o'clock\": \"of the clock\", \"oughtn't\": \"ought not\", \"oughtn't've\": \"ought not have\", \"shan't\": \"shall not\", \"sha'n't\": \"shall not\", \"shan't've\": \"shall not have\", \"she'd\": \"she would\", \"she'd've\": \"she would have\", \"she'll\": \"she will\", \"she'll've\": \"she will have\", \"she's\": \"she is\", \"should've\": \"should have\", \"shouldn't\": \"should not\", \"shouldn't've\": \"should not have\", \"so've\": \"so have\",\"so's\": \"so as\", \"this's\": \"this is\",\"that'd\": \"that would\", \"that'd've\": \"that would have\", \"that's\": \"that is\", \"there'd\": \"there would\", \"there'd've\": \"there would have\", \"there's\": \"there is\", \"here's\": \"here is\",\"they'd\": \"they would\", \"they'd've\": \"they would have\", \"they'll\": \"they will\", \"they'll've\": \"they will have\", \"they're\": \"they are\", \"they've\": \"they have\", \"to've\": \"to have\", \"wasn't\": \"was not\", \"we'd\": \"we would\", \"we'd've\": \"we would have\", \"we'll\": \"we will\", \"we'll've\": \"we will have\", \"we're\": \"we are\", \"we've\": \"we have\", \"weren't\": \"were not\", \"what'll\": \"what will\", \"what'll've\": \"what will have\", \"what're\": \"what are\", \"what's\": \"what is\", \"what've\": \"what have\", \"when's\": \"when is\", \"when've\": \"when have\", \"where'd\": \"where did\", \"where's\": \"where is\", \"where've\": \"where have\", \"who'll\": \"who will\", \"who'll've\": \"who will have\", \"who's\": \"who is\", \"who've\": \"who have\", \"why's\": \"why is\", \"why've\": \"why have\", \"will've\": \"will have\", \"won't\": \"will not\", \"won't've\": \"will not have\", \"would've\": \"would have\", \"wouldn't\": \"would not\", \"wouldn't've\": \"would not have\", \"y'all\": \"you all\", \"y'all'd\": \"you all would\",\"y'all'd've\": \"you all would have\",\"y'all're\": \"you all are\",\"y'all've\": \"you all have\", \"you'd\": \"you would\", \"you'd've\": \"you would have\", \"you'll\": \"you will\", \"you'll've\": \"you will have\", \"you're\": \"you are\", \"you've\": \"you have\"}\n",
    "eng_stopwords = set(stopwords.words(\"english\"))\n",
    "def preprocess(sentence,language):\n",
    "    sentence = sentence.lower()\n",
    "    if language == \"english\":\n",
    "        sentence = ' '.join([contractions[word] if word in contractions else word for word in sentence.split()])\n",
    "    sentence = re.sub(r\"[.'!#$%&\\'()*+,-./:;<=>?@[\\\\]^ `{|}~]\",\" \",sentence)\n",
    "    sentence = ' '.join([word for word in sentence.split()])\n",
    "\n",
    "    return sentence\n"
   ]
  },
  {
   "cell_type": "code",
   "execution_count": 11,
   "id": "bulgarian-wells",
   "metadata": {
    "colab": {
     "base_uri": "https://localhost:8080/"
    },
    "execution": {
     "iopub.execute_input": "2021-04-24T13:28:01.080338Z",
     "iopub.status.busy": "2021-04-24T13:28:01.079270Z",
     "iopub.status.idle": "2021-04-24T13:28:02.603912Z",
     "shell.execute_reply": "2021-04-24T13:28:02.603189Z"
    },
    "id": "bulgarian-wells",
    "outputId": "27b74fa4-05d6-4f0c-ebcf-81b8c7c1247c",
    "papermill": {
     "duration": 1.560415,
     "end_time": "2021-04-24T13:28:02.604065",
     "exception": false,
     "start_time": "2021-04-24T13:28:01.043650",
     "status": "completed"
    },
    "tags": []
   },
   "outputs": [
    {
     "name": "stdout",
     "output_type": "stream",
     "text": [
      "(116544, 2) \n",
      "\n",
      "<class 'pandas.core.frame.DataFrame'>\n",
      "Index: 116544 entries, 0 to 175621\n",
      "Data columns (total 2 columns):\n",
      " #   Column   Non-Null Count   Dtype \n",
      "---  ------   --------------   ----- \n",
      " 0   english  116544 non-null  object\n",
      " 1   french   116544 non-null  object\n",
      "dtypes: object(2)\n",
      "memory usage: 2.7+ MB\n"
     ]
    }
   ],
   "source": [
    "df.english = df.english.apply(lambda x:preprocess(x,'english'))\n",
    "df.french = df.french.apply(lambda x:preprocess(x,'french'))\n",
    "\n",
    "print(df.shape,'\\n')\n",
    "df.info()"
   ]
  },
  {
   "cell_type": "code",
   "execution_count": 12,
   "id": "failing-bandwidth",
   "metadata": {
    "colab": {
     "base_uri": "https://localhost:8080/",
     "height": 255
    },
    "execution": {
     "iopub.execute_input": "2021-04-24T13:28:02.674276Z",
     "iopub.status.busy": "2021-04-24T13:28:02.673122Z",
     "iopub.status.idle": "2021-04-24T13:28:02.680882Z",
     "shell.execute_reply": "2021-04-24T13:28:02.680271Z"
    },
    "id": "failing-bandwidth",
    "outputId": "4a756602-6936-4468-b8fa-bd5eb2e1a2ae",
    "papermill": {
     "duration": 0.047658,
     "end_time": "2021-04-24T13:28:02.681034",
     "exception": false,
     "start_time": "2021-04-24T13:28:02.633376",
     "status": "completed"
    },
    "tags": []
   },
   "outputs": [
    {
     "name": "stdout",
     "output_type": "stream",
     "text": [
      "after preprocessing\n"
     ]
    },
    {
     "data": {
      "text/html": [
       "<div>\n",
       "<style scoped>\n",
       "    .dataframe tbody tr th:only-of-type {\n",
       "        vertical-align: middle;\n",
       "    }\n",
       "\n",
       "    .dataframe tbody tr th {\n",
       "        vertical-align: top;\n",
       "    }\n",
       "\n",
       "    .dataframe thead th {\n",
       "        text-align: right;\n",
       "    }\n",
       "</style>\n",
       "<table border=\"1\" class=\"dataframe\">\n",
       "  <thead>\n",
       "    <tr style=\"text-align: right;\">\n",
       "      <th></th>\n",
       "      <th>english</th>\n",
       "      <th>french</th>\n",
       "    </tr>\n",
       "  </thead>\n",
       "  <tbody>\n",
       "    <tr>\n",
       "      <th>175616</th>\n",
       "      <td>we need to uphold laws against discrimination ...</td>\n",
       "      <td>nous devons faire respecter les lois contre la...</td>\n",
       "    </tr>\n",
       "    <tr>\n",
       "      <th>175617</th>\n",
       "      <td>top-down economics never works, said obama. \"t...</td>\n",
       "      <td>« l'économie en partant du haut vers le bas, ç...</td>\n",
       "    </tr>\n",
       "    <tr>\n",
       "      <th>175618</th>\n",
       "      <td>a carbon footprint is the amount of carbon dio...</td>\n",
       "      <td>une empreinte carbone est la somme de pollutio...</td>\n",
       "    </tr>\n",
       "    <tr>\n",
       "      <th>175619</th>\n",
       "      <td>death is something that we are often discourag...</td>\n",
       "      <td>la mort est une chose qu'on nous décourage sou...</td>\n",
       "    </tr>\n",
       "    <tr>\n",
       "      <th>175620</th>\n",
       "      <td>since there are usually multiple websites on a...</td>\n",
       "      <td>puisqu'il y a de multiples sites web sur chaqu...</td>\n",
       "    </tr>\n",
       "    <tr>\n",
       "      <th>175621</th>\n",
       "      <td>if someone who does not know your background s...</td>\n",
       "      <td>si quelqu'un qui ne connaît pas vos antécédent...</td>\n",
       "    </tr>\n",
       "  </tbody>\n",
       "</table>\n",
       "</div>"
      ],
      "text/plain": [
       "                                                  english  \\\n",
       "175616  we need to uphold laws against discrimination ...   \n",
       "175617  top-down economics never works, said obama. \"t...   \n",
       "175618  a carbon footprint is the amount of carbon dio...   \n",
       "175619  death is something that we are often discourag...   \n",
       "175620  since there are usually multiple websites on a...   \n",
       "175621  if someone who does not know your background s...   \n",
       "\n",
       "                                                   french  \n",
       "175616  nous devons faire respecter les lois contre la...  \n",
       "175617  « l'économie en partant du haut vers le bas, ç...  \n",
       "175618  une empreinte carbone est la somme de pollutio...  \n",
       "175619  la mort est une chose qu'on nous décourage sou...  \n",
       "175620  puisqu'il y a de multiples sites web sur chaqu...  \n",
       "175621  si quelqu'un qui ne connaît pas vos antécédent...  "
      ]
     },
     "execution_count": 12,
     "metadata": {},
     "output_type": "execute_result"
    }
   ],
   "source": [
    "print(\"after preprocessing\")\n",
    "df.tail(6)"
   ]
  },
  {
   "cell_type": "markdown",
   "id": "advance-grass",
   "metadata": {
    "id": "advance-grass",
    "papermill": {
     "duration": 0.028572,
     "end_time": "2021-04-24T13:28:02.739004",
     "exception": false,
     "start_time": "2021-04-24T13:28:02.710432",
     "status": "completed"
    },
    "tags": []
   },
   "source": [
    "**4.Train / Test separate**"
   ]
  },
  {
   "cell_type": "code",
   "execution_count": 13,
   "id": "seven-northeast",
   "metadata": {
    "colab": {
     "base_uri": "https://localhost:8080/",
     "height": 206
    },
    "execution": {
     "iopub.execute_input": "2021-04-24T13:28:02.812508Z",
     "iopub.status.busy": "2021-04-24T13:28:02.805394Z",
     "iopub.status.idle": "2021-04-24T13:28:02.944119Z",
     "shell.execute_reply": "2021-04-24T13:28:02.943578Z"
    },
    "id": "seven-northeast",
    "outputId": "d6862714-a561-4f82-f10f-ea2f0668d51b",
    "papermill": {
     "duration": 0.176174,
     "end_time": "2021-04-24T13:28:02.944271",
     "exception": false,
     "start_time": "2021-04-24T13:28:02.768097",
     "status": "completed"
    },
    "tags": []
   },
   "outputs": [
    {
     "data": {
      "text/html": [
       "<div>\n",
       "<style scoped>\n",
       "    .dataframe tbody tr th:only-of-type {\n",
       "        vertical-align: middle;\n",
       "    }\n",
       "\n",
       "    .dataframe tbody tr th {\n",
       "        vertical-align: top;\n",
       "    }\n",
       "\n",
       "    .dataframe thead th {\n",
       "        text-align: right;\n",
       "    }\n",
       "</style>\n",
       "<table border=\"1\" class=\"dataframe\">\n",
       "  <thead>\n",
       "    <tr style=\"text-align: right;\">\n",
       "      <th></th>\n",
       "      <th>english</th>\n",
       "      <th>french</th>\n",
       "      <th>french_input</th>\n",
       "      <th>french_label</th>\n",
       "    </tr>\n",
       "  </thead>\n",
       "  <tbody>\n",
       "    <tr>\n",
       "      <th>0</th>\n",
       "      <td>english words/sentences</td>\n",
       "      <td>french words/sentences</td>\n",
       "      <td>sostoken french words/sentences</td>\n",
       "      <td>french words/sentences eostoken</td>\n",
       "    </tr>\n",
       "    <tr>\n",
       "      <th>1</th>\n",
       "      <td>hi.</td>\n",
       "      <td>salut!</td>\n",
       "      <td>sostoken salut!</td>\n",
       "      <td>salut! eostoken</td>\n",
       "    </tr>\n",
       "    <tr>\n",
       "      <th>2</th>\n",
       "      <td>run!</td>\n",
       "      <td>cours !</td>\n",
       "      <td>sostoken cours !</td>\n",
       "      <td>cours ! eostoken</td>\n",
       "    </tr>\n",
       "    <tr>\n",
       "      <th>4</th>\n",
       "      <td>who?</td>\n",
       "      <td>qui ?</td>\n",
       "      <td>sostoken qui ?</td>\n",
       "      <td>qui ? eostoken</td>\n",
       "    </tr>\n",
       "    <tr>\n",
       "      <th>5</th>\n",
       "      <td>wow!</td>\n",
       "      <td>ça alors !</td>\n",
       "      <td>sostoken ça alors !</td>\n",
       "      <td>ça alors ! eostoken</td>\n",
       "    </tr>\n",
       "  </tbody>\n",
       "</table>\n",
       "</div>"
      ],
      "text/plain": [
       "                   english                  french  \\\n",
       "0  english words/sentences  french words/sentences   \n",
       "1                      hi.                  salut!   \n",
       "2                     run!                 cours !   \n",
       "4                     who?                   qui ?   \n",
       "5                     wow!              ça alors !   \n",
       "\n",
       "                      french_input                     french_label  \n",
       "0  sostoken french words/sentences  french words/sentences eostoken  \n",
       "1                  sostoken salut!                  salut! eostoken  \n",
       "2                 sostoken cours !                 cours ! eostoken  \n",
       "4                   sostoken qui ?                   qui ? eostoken  \n",
       "5              sostoken ça alors !              ça alors ! eostoken  "
      ]
     },
     "execution_count": 13,
     "metadata": {},
     "output_type": "execute_result"
    }
   ],
   "source": [
    "df[\"french_input\"] = df.french.apply(lambda x:'sostoken ' + x)\n",
    "df[\"french_label\"] = df.french.apply(lambda x:x + ' eostoken')\n",
    "\n",
    "encoder_input = np.array(df.english)\n",
    "decoder_input = np.array(df.french_input)\n",
    "decoder_label = np.array(df.french_label)\n",
    "\n",
    "\n",
    "indices = np.arange(116544)\n",
    "np.random.shuffle(indices)\n",
    "\n",
    "encoder_input = encoder_input[indices]\n",
    "decoder_input = decoder_input[indices]\n",
    "decoder_label = decoder_label[indices]\n",
    "\n",
    "df.head()"
   ]
  },
  {
   "cell_type": "code",
   "execution_count": 14,
   "id": "hearing-ceramic",
   "metadata": {
    "colab": {
     "base_uri": "https://localhost:8080/"
    },
    "execution": {
     "iopub.execute_input": "2021-04-24T13:28:03.015111Z",
     "iopub.status.busy": "2021-04-24T13:28:03.014265Z",
     "iopub.status.idle": "2021-04-24T13:28:03.019148Z",
     "shell.execute_reply": "2021-04-24T13:28:03.019692Z"
    },
    "id": "hearing-ceramic",
    "outputId": "29697bf6-3cd7-47e3-9bb8-83121e1bc00a",
    "papermill": {
     "duration": 0.044418,
     "end_time": "2021-04-24T13:28:03.019896",
     "exception": false,
     "start_time": "2021-04-24T13:28:02.975478",
     "status": "completed"
    },
    "tags": []
   },
   "outputs": [
    {
     "name": "stdout",
     "output_type": "stream",
     "text": [
      "train dataset shape\n",
      "(81581,)\n",
      "(81581,)\n",
      "(81581,)\n",
      "\n",
      "\n",
      "test dataset shape\n",
      "(34963,)\n",
      "(34963,)\n",
      "(34963,)\n"
     ]
    }
   ],
   "source": [
    "total = df.shape[0]\n",
    "test_size = 0.3\n",
    "\n",
    "train_encoder_input = encoder_input[:-int(total*test_size)]\n",
    "train_decoder_input = decoder_input[:-int(total*test_size)]\n",
    "train_decoder_label = decoder_label[:-int(total*test_size)]\n",
    "\n",
    "test_encoder_input = encoder_input[-int(total*test_size):]\n",
    "test_decoder_input = decoder_input[-int(total*test_size):]\n",
    "test_decoder_label = decoder_label[-int(total*test_size):]\n",
    "\n",
    "print(\"train dataset shape\")\n",
    "print(train_encoder_input.shape)\n",
    "print(train_decoder_input.shape)\n",
    "print(train_decoder_label.shape)\n",
    "\n",
    "print(\"\\n\\ntest dataset shape\")\n",
    "print(test_encoder_input.shape)\n",
    "print(test_decoder_input.shape)\n",
    "print(test_decoder_label.shape)"
   ]
  },
  {
   "cell_type": "markdown",
   "id": "short-balance",
   "metadata": {
    "id": "short-balance",
    "papermill": {
     "duration": 0.033721,
     "end_time": "2021-04-24T13:28:03.085707",
     "exception": false,
     "start_time": "2021-04-24T13:28:03.051986",
     "status": "completed"
    },
    "tags": []
   },
   "source": [
    "**5.Tokenize & Pad sequences**"
   ]
  },
  {
   "cell_type": "code",
   "execution_count": 15,
   "id": "instructional-feeling",
   "metadata": {
    "colab": {
     "base_uri": "https://localhost:8080/"
    },
    "execution": {
     "iopub.execute_input": "2021-04-24T13:28:03.158205Z",
     "iopub.status.busy": "2021-04-24T13:28:03.157459Z",
     "iopub.status.idle": "2021-04-24T13:28:07.392708Z",
     "shell.execute_reply": "2021-04-24T13:28:07.391524Z"
    },
    "id": "instructional-feeling",
    "outputId": "13d6d11f-dc08-4095-d752-1b5ab6f95d57",
    "papermill": {
     "duration": 4.277288,
     "end_time": "2021-04-24T13:28:07.393001",
     "exception": false,
     "start_time": "2021-04-24T13:28:03.115713",
     "status": "completed"
    },
    "tags": []
   },
   "outputs": [
    {
     "name": "stdout",
     "output_type": "stream",
     "text": [
      "Number of unique words used in english sentences >> 12620\n",
      "Number of unique words used in french sentences >> 21199\n"
     ]
    }
   ],
   "source": [
    "eng_tok = Tokenizer()\n",
    "eng_tok.fit_on_texts(train_encoder_input)\n",
    "print(f\"Number of unique words used in english sentences >> {len(eng_tok.index_word)}\")\n",
    "\n",
    "fr_tok = Tokenizer()\n",
    "fr_tok.fit_on_texts(train_decoder_input)\n",
    "fr_tok.fit_on_texts(train_decoder_label)\n",
    "print(f\"Number of unique words used in french sentences >> {len(fr_tok.index_word)}\")"
   ]
  },
  {
   "cell_type": "code",
   "execution_count": 16,
   "id": "pending-karma",
   "metadata": {
    "colab": {
     "base_uri": "https://localhost:8080/"
    },
    "execution": {
     "iopub.execute_input": "2021-04-24T13:28:07.470400Z",
     "iopub.status.busy": "2021-04-24T13:28:07.469205Z",
     "iopub.status.idle": "2021-04-24T13:28:07.477546Z",
     "shell.execute_reply": "2021-04-24T13:28:07.476862Z"
    },
    "id": "pending-karma",
    "outputId": "c02f5e50-4c8b-4e86-f92f-74611be6e4c7",
    "papermill": {
     "duration": 0.053948,
     "end_time": "2021-04-24T13:28:07.477692",
     "exception": false,
     "start_time": "2021-04-24T13:28:07.423744",
     "status": "completed"
    },
    "tags": []
   },
   "outputs": [
    {
     "name": "stdout",
     "output_type": "stream",
     "text": [
      "========================= english =========================\n",
      "6627 of 12620 words are used less than 3times,\n",
      "which is only 53.0% of total words used\n",
      "But they occupy 2.0% of total frequency \n"
     ]
    }
   ],
   "source": [
    "total_counts = 0\n",
    "rare_counts = 0\n",
    "total_freq = 0\n",
    "rare_freq = 0\n",
    "\n",
    "least_occurence = 3\n",
    "for k,v in eng_tok.word_counts.items():\n",
    "    total_counts +=1\n",
    "    total_freq += v\n",
    "    if v < least_occurence:\n",
    "        rare_counts+=1\n",
    "        rare_freq += v\n",
    "\n",
    "print(\"=\"*25,\"english\",\"=\"*25)\n",
    "print(f\"{rare_counts} of {total_counts} words are used less than {least_occurence}times,\")\n",
    "print(f\"which is only {np.round(rare_counts/total_counts*100)}% of total words used\")\n",
    "print(f\"But they occupy {np.round(rare_freq/total_freq*100)}% of total frequency \")"
   ]
  },
  {
   "cell_type": "code",
   "execution_count": 17,
   "id": "promising-belize",
   "metadata": {
    "colab": {
     "base_uri": "https://localhost:8080/"
    },
    "execution": {
     "iopub.execute_input": "2021-04-24T13:28:07.565055Z",
     "iopub.status.busy": "2021-04-24T13:28:07.561179Z",
     "iopub.status.idle": "2021-04-24T13:28:07.570598Z",
     "shell.execute_reply": "2021-04-24T13:28:07.569919Z"
    },
    "id": "promising-belize",
    "outputId": "a31b1264-1768-44fd-b96f-15ae0a43dd11",
    "papermill": {
     "duration": 0.061402,
     "end_time": "2021-04-24T13:28:07.570751",
     "exception": false,
     "start_time": "2021-04-24T13:28:07.509349",
     "status": "completed"
    },
    "tags": []
   },
   "outputs": [
    {
     "name": "stdout",
     "output_type": "stream",
     "text": [
      "========================= french =========================\n",
      "9300 of 21199 words are used less than 3times,\n",
      "which is only 44.0% of total words used\n",
      "But they occupy 1.0% of total frequency \n"
     ]
    }
   ],
   "source": [
    "total_counts = 0\n",
    "rare_counts = 0\n",
    "total_freq = 0\n",
    "rare_freq = 0\n",
    "\n",
    "least_occurence = 3\n",
    "for k,v in fr_tok.word_counts.items():\n",
    "    total_counts +=1\n",
    "    total_freq += v\n",
    "    if v < least_occurence:\n",
    "        rare_counts+=1\n",
    "        rare_freq += v\n",
    "\n",
    "print(\"=\"*25,\"french\",\"=\"*25)\n",
    "print(f\"{rare_counts} of {total_counts} words are used less than {least_occurence}times,\")\n",
    "print(f\"which is only {np.round(rare_counts/total_counts*100)}% of total words used\")\n",
    "print(f\"But they occupy {np.round(rare_freq/total_freq*100)}% of total frequency \")"
   ]
  },
  {
   "cell_type": "code",
   "execution_count": 18,
   "id": "periodic-agriculture",
   "metadata": {
    "execution": {
     "iopub.execute_input": "2021-04-24T13:28:07.667733Z",
     "iopub.status.busy": "2021-04-24T13:28:07.651750Z",
     "iopub.status.idle": "2021-04-24T13:28:17.575529Z",
     "shell.execute_reply": "2021-04-24T13:28:17.574722Z"
    },
    "id": "periodic-agriculture",
    "papermill": {
     "duration": 9.971282,
     "end_time": "2021-04-24T13:28:17.576017",
     "exception": false,
     "start_time": "2021-04-24T13:28:07.604735",
     "status": "completed"
    },
    "tags": []
   },
   "outputs": [],
   "source": [
    "eng_word_size = 6000\n",
    "eng_vocab_size = eng_word_size+1\n",
    "fr_word_size = 12000\n",
    "fr_vocab_size = fr_word_size+1\n",
    "\n",
    "eng_tok = Tokenizer(num_words=eng_word_size)\n",
    "eng_tok.fit_on_texts(train_encoder_input)\n",
    "\n",
    "train_encoder_input = eng_tok.texts_to_sequences(train_encoder_input)\n",
    "test_encoder_input = eng_tok.texts_to_sequences(test_encoder_input)\n",
    "\n",
    "fr_tok = Tokenizer(num_words=fr_word_size)\n",
    "fr_tok.fit_on_texts(train_decoder_input)\n",
    "fr_tok.fit_on_texts(train_decoder_label)\n",
    "\n",
    "train_decoder_input = fr_tok.texts_to_sequences(train_decoder_input)\n",
    "train_decoder_label = fr_tok.texts_to_sequences(train_decoder_label)\n",
    "\n",
    "test_decoder_input = fr_tok.texts_to_sequences(test_decoder_input)\n",
    "test_decoder_label = fr_tok.texts_to_sequences(test_decoder_label)"
   ]
  },
  {
   "cell_type": "code",
   "execution_count": 19,
   "id": "pleased-aspect",
   "metadata": {
    "colab": {
     "base_uri": "https://localhost:8080/",
     "height": 499
    },
    "execution": {
     "iopub.execute_input": "2021-04-24T13:28:17.675495Z",
     "iopub.status.busy": "2021-04-24T13:28:17.655036Z",
     "iopub.status.idle": "2021-04-24T13:28:19.229260Z",
     "shell.execute_reply": "2021-04-24T13:28:19.228671Z"
    },
    "id": "pleased-aspect",
    "outputId": "e24accfb-583e-4016-aadd-9feeb2463048",
    "papermill": {
     "duration": 1.620607,
     "end_time": "2021-04-24T13:28:19.229422",
     "exception": false,
     "start_time": "2021-04-24T13:28:17.608815",
     "status": "completed"
    },
    "tags": []
   },
   "outputs": [
    {
     "name": "stdout",
     "output_type": "stream",
     "text": [
      "english\n",
      "mean >>  6.57043919540089\n",
      "french\n",
      "mean >>  7.784618967651782\n"
     ]
    },
    {
     "data": {
      "image/png": "[encoded data removed]",
      "text/plain": [
       "<Figure size 640x480 with 2 Axes>"
      ]
     },
     "metadata": {},
     "output_type": "display_data"
    }
   ],
   "source": [
    "print(\"english\")\n",
    "eng_lens = [len(seq) for seq in train_encoder_input]\n",
    "print(\"mean >> \",np.mean(eng_lens))\n",
    "plt.subplot(2,1,1)\n",
    "plt.hist(eng_lens,bins=50)\n",
    "\n",
    "\n",
    "print(\"french\")\n",
    "fr_lens = [len(seq) for seq in train_decoder_input]\n",
    "print(\"mean >> \",np.mean(fr_lens))\n",
    "plt.subplot(2,1,2)\n",
    "plt.hist(fr_lens,bins=50)\n",
    "plt.show()"
   ]
  },
  {
   "cell_type": "code",
   "execution_count": 20,
   "id": "suspended-edmonton",
   "metadata": {
    "colab": {
     "base_uri": "https://localhost:8080/"
    },
    "execution": {
     "iopub.execute_input": "2021-04-24T13:28:19.313826Z",
     "iopub.status.busy": "2021-04-24T13:28:19.308263Z",
     "iopub.status.idle": "2021-04-24T13:28:21.886400Z",
     "shell.execute_reply": "2021-04-24T13:28:21.886962Z"
    },
    "id": "suspended-edmonton",
    "outputId": "c7f40f94-b914-428f-b8b3-04ea03d769ac",
    "papermill": {
     "duration": 2.623795,
     "end_time": "2021-04-24T13:28:21.887145",
     "exception": false,
     "start_time": "2021-04-24T13:28:19.263350",
     "status": "completed"
    },
    "tags": []
   },
   "outputs": [
    {
     "name": "stdout",
     "output_type": "stream",
     "text": [
      "train dataset shape\n",
      "(81581, 10)\n",
      "(81581, 20)\n",
      "(81581, 20)\n",
      "\n",
      "\n",
      "test dataset shape\n",
      "(34963, 10)\n",
      "(34963, 20)\n",
      "(34963, 20)\n"
     ]
    }
   ],
   "source": [
    "eng_sequence_size = 10\n",
    "fr_sequence_size = 20\n",
    "\n",
    "train_encoder_input = pad_sequences(train_encoder_input,padding='post',truncating='post',maxlen=eng_sequence_size)\n",
    "test_encoder_input = pad_sequences(test_encoder_input,padding='post',truncating='post',maxlen=eng_sequence_size)\n",
    "\n",
    "train_decoder_input = pad_sequences(train_decoder_input,padding='post',truncating='post',maxlen=fr_sequence_size)\n",
    "train_decoder_label = pad_sequences(train_decoder_label,padding='post',truncating='post',maxlen=fr_sequence_size)\n",
    "\n",
    "test_decoder_input = pad_sequences(test_decoder_input,padding='post',truncating='post',maxlen=fr_sequence_size)\n",
    "test_decoder_label = pad_sequences(test_decoder_label,padding='post',truncating='post',maxlen=fr_sequence_size)\n",
    "\n",
    "print(\"train dataset shape\")\n",
    "print(train_encoder_input.shape)\n",
    "print(train_decoder_input.shape)\n",
    "print(train_decoder_label.shape)\n",
    "\n",
    "print(\"\\n\\ntest dataset shape\")\n",
    "print(test_encoder_input.shape)\n",
    "print(test_decoder_input.shape)\n",
    "print(test_decoder_label.shape)"
   ]
  },
  {
   "cell_type": "markdown",
   "id": "medieval-count",
   "metadata": {
    "id": "medieval-count",
    "papermill": {
     "duration": 0.033431,
     "end_time": "2021-04-24T13:28:21.955368",
     "exception": false,
     "start_time": "2021-04-24T13:28:21.921937",
     "status": "completed"
    },
    "tags": []
   },
   "source": [
    "**6.Encoder-Decoder Model : Stacked LSTM + Luong Attention**"
   ]
  },
  {
   "cell_type": "code",
   "execution_count": 21,
   "id": "desirable-payment",
   "metadata": {
    "colab": {
     "base_uri": "https://localhost:8080/"
    },
    "execution": {
     "iopub.execute_input": "2021-04-24T13:28:22.030103Z",
     "iopub.status.busy": "2021-04-24T13:28:22.029105Z",
     "iopub.status.idle": "2021-04-24T13:28:23.332032Z",
     "shell.execute_reply": "2021-04-24T13:28:23.332499Z"
    },
    "id": "desirable-payment",
    "outputId": "473f0356-b904-467c-d7a3-2c7f26bf6482",
    "papermill": {
     "duration": 1.341299,
     "end_time": "2021-04-24T13:28:23.332687",
     "exception": false,
     "start_time": "2021-04-24T13:28:21.991388",
     "status": "completed"
    },
    "tags": []
   },
   "outputs": [
    {
     "name": "stdout",
     "output_type": "stream",
     "text": [
      "WARNING:tensorflow:From d:\\Final project\\env\\Lib\\site-packages\\keras\\src\\backend.py:1398: The name tf.executing_eagerly_outside_functions is deprecated. Please use tf.compat.v1.executing_eagerly_outside_functions instead.\n",
      "\n",
      "WARNING:tensorflow:From d:\\Final project\\env\\Lib\\site-packages\\keras\\src\\optimizers\\__init__.py:309: The name tf.train.Optimizer is deprecated. Please use tf.compat.v1.train.Optimizer instead.\n",
      "\n"
     ]
    }
   ],
   "source": [
    "from keras.layers import Input,Embedding,LSTM,Dense,Concatenate,Attention\n",
    "from keras.models import Model\n",
    "from keras.utils import plot_model\n",
    "from keras import backend as K\n",
    "\n",
    "#hyperparameters\n",
    "embedding_size = 256\n",
    "hidden_size = 256\n",
    "\n",
    "encoder_input = Input(shape=[eng_sequence_size])\n",
    "encoder_embedding = Embedding(eng_vocab_size,embedding_size,mask_zero=True)\n",
    "encoder_embedded = encoder_embedding(encoder_input)\n",
    "\n",
    "encoder_lstm1 = LSTM(hidden_size,return_sequences=True,return_state=True,dropout=0.2,recurrent_dropout=0.2)\n",
    "encoder_output1,encoder_h1,encoder_c1 = encoder_lstm1(encoder_embedded)\n",
    "\n",
    "encoder_lstm2 = LSTM(hidden_size,return_sequences=True,return_state=True,dropout=0.2,recurrent_dropout=0.2)\n",
    "encoder_output2,encoder_h2,encoder_c2 = encoder_lstm2(encoder_output1)\n",
    "\n",
    "encoder_lstm3 = LSTM(hidden_size,return_sequences=True,return_state=True,dropout=0.2,recurrent_dropout=0.2)\n",
    "encoder_output3,encoder_h3,encoder_c3 = encoder_lstm3(encoder_output1)\n",
    "\n",
    "decoder_input = Input(shape=(None,))\n",
    "decoder_embedding = Embedding(fr_vocab_size,embedding_size,mask_zero=True)\n",
    "decoder_embedded = decoder_embedding(decoder_input)\n",
    "\n",
    "decoder_lstm = LSTM(hidden_size,return_sequences=True,return_state=True,dropout=0.2,recurrent_dropout=0.2)\n",
    "decoder_output,_,_ = decoder_lstm(decoder_embedded,initial_state=[encoder_h3,encoder_c3])\n",
    "\n",
    "attn_layer = Attention()\n",
    "attn_context = attn_layer([decoder_output,encoder_output3])\n",
    "\n",
    "decoder_output = Concatenate(axis=-1)([decoder_output,attn_context])\n",
    "tanh_dense= Dense(hidden_size*2,activation=K.tanh)\n",
    "decoder_output = tanh_dense(decoder_output)\n",
    "\n",
    "softmax_dense = Dense(fr_vocab_size,activation='softmax')\n",
    "decoder_output = softmax_dense(decoder_output)\n",
    "\n",
    "trainer_model = Model([encoder_input,decoder_input],decoder_output)\n",
    "trainer_model.compile(loss='sparse_categorical_crossentropy',optimizer='adam',metrics=['accuracy'])"
   ]
  },
  {
   "cell_type": "code",
   "execution_count": 22,
   "id": "engaged-storm",
   "metadata": {
    "colab": {
     "base_uri": "https://localhost:8080/",
     "height": 856
    },
    "execution": {
     "iopub.execute_input": "2021-04-24T13:28:23.410613Z",
     "iopub.status.busy": "2021-04-24T13:28:23.409506Z",
     "iopub.status.idle": "2021-04-24T13:28:23.991854Z",
     "shell.execute_reply": "2021-04-24T13:28:23.991273Z"
    },
    "id": "engaged-storm",
    "outputId": "cc78c14a-6bf6-42f5-bb20-17c5aa0e94cc",
    "papermill": {
     "duration": 0.624773,
     "end_time": "2021-04-24T13:28:23.992013",
     "exception": false,
     "start_time": "2021-04-24T13:28:23.367240",
     "status": "completed"
    },
    "tags": []
   },
   "outputs": [
    {
     "name": "stdout",
     "output_type": "stream",
     "text": [
      "You must install pydot (`pip install pydot`) and install graphviz (see instructions at https://graphviz.gitlab.io/download/) for plot_model to work.\n"
     ]
    }
   ],
   "source": [
    "plot_model(trainer_model)"
   ]
  },
  {
   "cell_type": "code",
   "execution_count": 23,
   "id": "advised-advance",
   "metadata": {
    "colab": {
     "base_uri": "https://localhost:8080/"
    },
    "execution": {
     "iopub.execute_input": "2021-04-24T13:28:24.072277Z",
     "iopub.status.busy": "2021-04-24T13:28:24.071533Z",
     "iopub.status.idle": "2021-04-24T20:27:06.745538Z",
     "shell.execute_reply": "2021-04-24T20:27:06.746316Z"
    },
    "id": "advised-advance",
    "outputId": "8e9d31c0-1dc7-4546-daf5-a2bc78a820d3",
    "papermill": {
     "duration": 25122.718379,
     "end_time": "2021-04-24T20:27:06.746577",
     "exception": false,
     "start_time": "2021-04-24T13:28:24.028198",
     "status": "completed"
    },
    "tags": []
   },
   "outputs": [
    {
     "name": "stdout",
     "output_type": "stream",
     "text": [
      "Epoch 1/10\n",
      "WARNING:tensorflow:From d:\\Final project\\env\\Lib\\site-packages\\keras\\src\\utils\\tf_utils.py:492: The name tf.ragged.RaggedTensorValue is deprecated. Please use tf.compat.v1.ragged.RaggedTensorValue instead.\n",
      "\n",
      "WARNING:tensorflow:From d:\\Final project\\env\\Lib\\site-packages\\keras\\src\\engine\\base_layer_utils.py:384: The name tf.executing_eagerly_outside_functions is deprecated. Please use tf.compat.v1.executing_eagerly_outside_functions instead.\n",
      "\n",
      " 23/510 [>.............................] - ETA: 12:41 - loss: 7.7752 - accuracy: 0.1241"
     ]
    }
   ],
   "source": [
    "trainer_hist =trainer_model.fit([train_encoder_input,train_decoder_input],train_decoder_label,epochs=10,batch_size=128,validation_split=0.2)"
   ]
  },
  {
   "cell_type": "code",
   "execution_count": 38,
   "id": "1f79d109",
   "metadata": {},
   "outputs": [
    {
     "name": "stderr",
     "output_type": "stream",
     "text": [
      "C:\\Users\\LENOVO\\anaconda3\\lib\\site-packages\\keras\\src\\engine\\training.py:3103: UserWarning: You are saving your model as an HDF5 file via `model.save()`. This file format is considered legacy. We recommend using instead the native Keras format, e.g. `model.save('my_model.keras')`.\n",
      "  saving_api.save_model(\n"
     ]
    }
   ],
   "source": [
    "trainer_model.save(\"translation_project.h5\")"
   ]
  },
  {
   "cell_type": "code",
   "execution_count": 39,
   "id": "90d828ea",
   "metadata": {},
   "outputs": [],
   "source": [
    "import joblib"
   ]
  },
  {
   "cell_type": "code",
   "execution_count": 40,
   "id": "c61366e4",
   "metadata": {},
   "outputs": [
    {
     "data": {
      "text/plain": [
       "['eng_tok.pkl']"
      ]
     },
     "execution_count": 40,
     "metadata": {},
     "output_type": "execute_result"
    }
   ],
   "source": [
    "joblib.dump(eng_tok,'eng_tok.pkl')"
   ]
  },
  {
   "cell_type": "code",
   "execution_count": 41,
   "id": "48b5f746",
   "metadata": {},
   "outputs": [
    {
     "data": {
      "text/plain": [
       "['fr_tok.pkl']"
      ]
     },
     "execution_count": 41,
     "metadata": {},
     "output_type": "execute_result"
    }
   ],
   "source": [
    "joblib.dump(fr_tok,'fr_tok.pkl')"
   ]
  },
  {
   "cell_type": "code",
   "execution_count": 28,
   "id": "charming-catch",
   "metadata": {
    "execution": {
     "iopub.execute_input": "2021-04-24T20:27:14.774681Z",
     "iopub.status.busy": "2021-04-24T20:27:14.768955Z",
     "iopub.status.idle": "2021-04-24T20:27:14.969424Z",
     "shell.execute_reply": "2021-04-24T20:27:14.968847Z"
    },
    "id": "charming-catch",
    "papermill": {
     "duration": 4.203333,
     "end_time": "2021-04-24T20:27:14.969574",
     "exception": false,
     "start_time": "2021-04-24T20:27:10.766241",
     "status": "completed"
    },
    "tags": []
   },
   "outputs": [],
   "source": [
    "#generator model\n",
    "gen_encoder = Model([encoder_input],[encoder_output3,encoder_h3,encoder_c3])\n",
    "\n",
    "gen_decoder_values_input = Input(shape=(eng_sequence_size,hidden_size))\n",
    "gen_decoder_h_input = Input(shape=[hidden_size])\n",
    "gen_decoder_c_input = Input(shape=[hidden_size])\n",
    "\n",
    "gen_decoder_embedded = decoder_embedding(decoder_input)\n",
    "gen_decoder_output,gen_decoder_h,gen_decoder_c = decoder_lstm(gen_decoder_embedded,initial_state=[gen_decoder_h_input,gen_decoder_c_input])\n",
    "\n",
    "attn_context = attn_layer([gen_decoder_output,gen_decoder_values_input])\n",
    "gen_decoder_output = Concatenate(axis=-1)([gen_decoder_output,attn_context])\n",
    "\n",
    "gen_decoder_output = tanh_dense(gen_decoder_output)\n",
    "gen_decoder_output = softmax_dense(gen_decoder_output)\n",
    "\n",
    "gen_decoder = Model([decoder_input]+[gen_decoder_values_input,gen_decoder_h_input,gen_decoder_c_input],[gen_decoder_output,gen_decoder_h,gen_decoder_c])"
   ]
  },
  {
   "cell_type": "code",
   "execution_count": 1,
   "id": "certain-pearl",
   "metadata": {
    "colab": {
     "base_uri": "https://localhost:8080/",
     "height": 369
    },
    "execution": {
     "iopub.execute_input": "2021-04-24T20:27:23.113752Z",
     "iopub.status.busy": "2021-04-24T20:27:23.113041Z",
     "iopub.status.idle": "2021-04-24T20:27:23.286390Z",
     "shell.execute_reply": "2021-04-24T20:27:23.285650Z"
    },
    "id": "certain-pearl",
    "outputId": "aa7478f6-704e-4708-cff9-c3cfe231f007",
    "papermill": {
     "duration": 4.148095,
     "end_time": "2021-04-24T20:27:23.286545",
     "exception": false,
     "start_time": "2021-04-24T20:27:19.138450",
     "status": "completed"
    },
    "tags": []
   },
   "outputs": [],
   "source": [
    " plot_model(gen_encoder)"
   ]
  },
  {
   "cell_type": "code",
   "execution_count": 2,
   "id": "disabled-lingerie",
   "metadata": {
    "colab": {
     "base_uri": "https://localhost:8080/",
     "height": 661
    },
    "execution": {
     "iopub.execute_input": "2021-04-24T20:27:31.529432Z",
     "iopub.status.busy": "2021-04-24T20:27:31.528690Z",
     "iopub.status.idle": "2021-04-24T20:27:31.735023Z",
     "shell.execute_reply": "2021-04-24T20:27:31.734271Z"
    },
    "id": "disabled-lingerie",
    "outputId": "d7f6378d-83b3-4c98-e8f2-1acab1cd5b9b",
    "papermill": {
     "duration": 4.454422,
     "end_time": "2021-04-24T20:27:31.735173",
     "exception": false,
     "start_time": "2021-04-24T20:27:27.280751",
     "status": "completed"
    },
    "tags": []
   },
   "outputs": [],
   "source": [
    "plot_model(gen_decoder)"
   ]
  },
  {
   "cell_type": "code",
   "execution_count": 43,
   "id": "5d472cf6",
   "metadata": {},
   "outputs": [
    {
     "name": "stdout",
     "output_type": "stream",
     "text": [
      "WARNING:tensorflow:Compiled the loaded model, but the compiled metrics have yet to be built. `model.compile_metrics` will be empty until you train or evaluate the model.\n"
     ]
    }
   ],
   "source": [
    "gen_decoder.save(\"gen_decoder.h5\")"
   ]
  },
  {
   "cell_type": "code",
   "execution_count": 44,
   "id": "8a20baaf",
   "metadata": {},
   "outputs": [
    {
     "name": "stdout",
     "output_type": "stream",
     "text": [
      "WARNING:tensorflow:Compiled the loaded model, but the compiled metrics have yet to be built. `model.compile_metrics` will be empty until you train or evaluate the model.\n"
     ]
    }
   ],
   "source": [
    "gen_encoder.save(\"gen_encoder.h5\")"
   ]
  },
  {
   "cell_type": "code",
   "execution_count": 31,
   "id": "anonymous-cisco",
   "metadata": {
    "execution": {
     "iopub.execute_input": "2021-04-24T20:27:39.827770Z",
     "iopub.status.busy": "2021-04-24T20:27:39.826649Z",
     "iopub.status.idle": "2021-04-24T20:27:39.829534Z",
     "shell.execute_reply": "2021-04-24T20:27:39.830035Z"
    },
    "id": "anonymous-cisco",
    "papermill": {
     "duration": 3.978311,
     "end_time": "2021-04-24T20:27:39.830223",
     "exception": false,
     "start_time": "2021-04-24T20:27:35.851912",
     "status": "completed"
    },
    "tags": []
   },
   "outputs": [],
   "source": [
    "def seq2eng(seq):\n",
    "    ret =[]\n",
    "    for n in seq:\n",
    "        if n != 0:\n",
    "            ret.append(eng_tok.index_word[n])\n",
    "    ret = ' '.join(ret)\n",
    "    return ret\n",
    "\n",
    "def seq2fr(seq):\n",
    "    ret =[]\n",
    "    for n in seq:\n",
    "        if n != 0 and fr_tok.index_word[n] != 'eostoken':\n",
    "            ret.append(fr_tok.index_word[n])\n",
    "    ret = ' '.join(ret)\n",
    "    return ret"
   ]
  },
  {
   "cell_type": "code",
   "execution_count": 32,
   "id": "preceding-retention",
   "metadata": {
    "execution": {
     "iopub.execute_input": "2021-04-24T20:27:47.860670Z",
     "iopub.status.busy": "2021-04-24T20:27:47.859687Z",
     "iopub.status.idle": "2021-04-24T20:27:47.870099Z",
     "shell.execute_reply": "2021-04-24T20:27:47.869467Z"
    },
    "id": "preceding-retention",
    "papermill": {
     "duration": 4.08027,
     "end_time": "2021-04-24T20:27:47.870249",
     "exception": false,
     "start_time": "2021-04-24T20:27:43.789979",
     "status": "completed"
    },
    "tags": []
   },
   "outputs": [],
   "source": [
    "def generate_from_encoder_input(encoder_input):\n",
    "    encoder_input = encoder_input.reshape(1,-1)\n",
    "    values,h,c = gen_encoder.predict(encoder_input)\n",
    "\n",
    "    single_tok = np.zeros((1,1))\n",
    "    single_tok[0,0] = fr_tok.word_index['sostoken']\n",
    "    decoder_input = single_tok\n",
    "\n",
    "    generated = []\n",
    "    count = 0\n",
    "    while(True):\n",
    "        decoder_output,new_h,new_c = gen_decoder.predict([decoder_input]+[values,h,c])\n",
    "        count +=1\n",
    "\n",
    "        sampled_index = np.argmax(decoder_output[0,-1,:])\n",
    "        sampled_word = fr_tok.index_word[sampled_index]\n",
    "\n",
    "        if sampled_word != 'eostoken' and sampled_index != 0:\n",
    "            generated.append(sampled_word)\n",
    "        if count >= fr_sequence_size or sampled_word == 'eostoken':\n",
    "            break\n",
    "\n",
    "        h,c = new_h,new_c\n",
    "        decoder_input[0,0] = sampled_index\n",
    "\n",
    "    generated = ' '.join(generated)\n",
    "    return generated"
   ]
  },
  {
   "cell_type": "code",
   "execution_count": 33,
   "id": "atomic-frame",
   "metadata": {
    "colab": {
     "base_uri": "https://localhost:8080/"
    },
    "execution": {
     "iopub.execute_input": "2021-04-24T20:27:55.969386Z",
     "iopub.status.busy": "2021-04-24T20:27:55.966902Z",
     "iopub.status.idle": "2021-04-24T20:27:59.776397Z",
     "shell.execute_reply": "2021-04-24T20:27:59.774914Z"
    },
    "id": "atomic-frame",
    "outputId": "5da7cebe-9274-4d68-fefb-b2daec2efbdc",
    "papermill": {
     "duration": 7.777822,
     "end_time": "2021-04-24T20:27:59.776654",
     "exception": false,
     "start_time": "2021-04-24T20:27:51.998832",
     "status": "completed"
    },
    "tags": []
   },
   "outputs": [
    {
     "name": "stdout",
     "output_type": "stream",
     "text": [
      "\n",
      "<<sample encoder input english sentence>>\n",
      "excuse me but could you over a little bit please\n",
      "\n",
      "\n",
      "<<sample generated french sentence>>\n",
      "1/1 [==============================] - 1s 807ms/step\n",
      "1/1 [==============================] - 0s 346ms/step\n",
      "1/1 [==============================] - 0s 32ms/step\n",
      "1/1 [==============================] - 0s 34ms/step\n",
      "1/1 [==============================] - 0s 33ms/step\n",
      "1/1 [==============================] - 0s 33ms/step\n",
      "1/1 [==============================] - 0s 31ms/step\n",
      "1/1 [==============================] - 0s 32ms/step\n",
      "1/1 [==============================] - 0s 34ms/step\n",
      "1/1 [==============================] - 0s 33ms/step\n",
      "1/1 [==============================] - 0s 29ms/step\n",
      "1/1 [==============================] - 0s 33ms/step\n",
      "1/1 [==============================] - 0s 31ms/step\n",
      "excusez moi mais pourriez vous vous retrouver un peu de retard\n",
      "\n",
      "\n",
      "<<answer french sentence>>\n",
      "peux tu te mettre un peu de côté s'il te plait\n",
      "========================================\n",
      "\n",
      "\n",
      "<<sample encoder input english sentence>>\n",
      "can i see the message\n",
      "\n",
      "\n",
      "<<sample generated french sentence>>\n",
      "1/1 [==============================] - 0s 40ms/step\n",
      "1/1 [==============================] - 0s 33ms/step\n",
      "1/1 [==============================] - 0s 30ms/step\n",
      "1/1 [==============================] - 0s 34ms/step\n",
      "1/1 [==============================] - 0s 32ms/step\n",
      "1/1 [==============================] - 0s 32ms/step\n",
      "1/1 [==============================] - 0s 32ms/step\n",
      "puis je voir le message\n",
      "\n",
      "\n",
      "<<answer french sentence>>\n",
      "est ce que je peux voir le message\n",
      "========================================\n",
      "\n",
      "\n",
      "<<sample encoder input english sentence>>\n",
      "every boy and girl is taught to read and write\n",
      "\n",
      "\n",
      "<<sample generated french sentence>>\n",
      "1/1 [==============================] - 0s 41ms/step\n",
      "1/1 [==============================] - 0s 33ms/step\n",
      "1/1 [==============================] - 0s 31ms/step\n",
      "1/1 [==============================] - 0s 28ms/step\n",
      "1/1 [==============================] - 0s 32ms/step\n",
      "1/1 [==============================] - 0s 28ms/step\n",
      "1/1 [==============================] - 0s 33ms/step\n",
      "1/1 [==============================] - 0s 29ms/step\n",
      "1/1 [==============================] - 0s 35ms/step\n",
      "1/1 [==============================] - 0s 29ms/step\n",
      "1/1 [==============================] - 0s 28ms/step\n",
      "chaque garçon et la fille est mariée et dormir\n",
      "\n",
      "\n",
      "<<answer french sentence>>\n",
      "on enseigne à lire et à écrire à chaque garçon ou fille\n",
      "========================================\n",
      "\n",
      "\n",
      "<<sample encoder input english sentence>>\n",
      "i will answer that question\n",
      "\n",
      "\n",
      "<<sample generated french sentence>>\n",
      "1/1 [==============================] - 0s 44ms/step\n",
      "1/1 [==============================] - 0s 35ms/step\n",
      "1/1 [==============================] - 0s 37ms/step\n",
      "1/1 [==============================] - 0s 35ms/step\n",
      "1/1 [==============================] - 0s 31ms/step\n",
      "1/1 [==============================] - 0s 31ms/step\n",
      "1/1 [==============================] - 0s 31ms/step\n",
      "je répondrai à cette question\n",
      "\n",
      "\n",
      "<<answer french sentence>>\n",
      "je répondrai à cette question\n",
      "========================================\n",
      "\n",
      "\n",
      "<<sample encoder input english sentence>>\n",
      "why are you sweating so much\n",
      "\n",
      "\n",
      "<<sample generated french sentence>>\n",
      "1/1 [==============================] - 0s 40ms/step\n",
      "1/1 [==============================] - 0s 32ms/step\n",
      "1/1 [==============================] - 0s 30ms/step\n",
      "1/1 [==============================] - 0s 30ms/step\n",
      "1/1 [==============================] - 0s 34ms/step\n",
      "1/1 [==============================] - 0s 35ms/step\n",
      "pourquoi sues tu autant\n",
      "\n",
      "\n",
      "<<answer french sentence>>\n",
      "pourquoi sues tu autant\n",
      "========================================\n",
      "\n"
     ]
    }
   ],
   "source": [
    "for i in range(520,525):\n",
    "    print(\"\\n<<sample encoder input english sentence>>\")\n",
    "    print(seq2eng(train_encoder_input[i]))\n",
    "    print(\"\\n\")\n",
    "    print(\"<<sample generated french sentence>>\")\n",
    "    print(generate_from_encoder_input(train_encoder_input[i]))\n",
    "    print(\"\\n\")\n",
    "    print(\"<<answer french sentence>>\")\n",
    "    print(seq2fr(train_decoder_label[i]))\n",
    "    print(\"========================================\\n\")"
   ]
  },
  {
   "cell_type": "code",
   "execution_count": 34,
   "id": "actual-possibility",
   "metadata": {
    "colab": {
     "base_uri": "https://localhost:8080/"
    },
    "execution": {
     "iopub.execute_input": "2021-04-24T20:28:16.166375Z",
     "iopub.status.busy": "2021-04-24T20:28:16.165280Z",
     "iopub.status.idle": "2021-04-24T20:28:19.311268Z",
     "shell.execute_reply": "2021-04-24T20:28:19.310414Z"
    },
    "id": "actual-possibility",
    "outputId": "7bf23434-84b2-42ef-fa19-071fe06fe610",
    "papermill": {
     "duration": 7.183376,
     "end_time": "2021-04-24T20:28:19.311419",
     "exception": false,
     "start_time": "2021-04-24T20:28:12.128043",
     "status": "completed"
    },
    "tags": []
   },
   "outputs": [
    {
     "name": "stdout",
     "output_type": "stream",
     "text": [
      "Results on Train Dataset\n",
      "\n",
      "INPUT ENG>>\n",
      "many cities were destroyed by bombs\n",
      "\n",
      "\n",
      "GENERATED FR>>\n",
      "1/1 [==============================] - 0s 40ms/step\n",
      "1/1 [==============================] - 0s 30ms/step\n",
      "1/1 [==============================] - 0s 30ms/step\n",
      "1/1 [==============================] - 0s 30ms/step\n",
      "1/1 [==============================] - 0s 36ms/step\n",
      "1/1 [==============================] - 0s 31ms/step\n",
      "1/1 [==============================] - 0s 33ms/step\n",
      "1/1 [==============================] - 0s 30ms/step\n",
      "1/1 [==============================] - 0s 29ms/step\n",
      "1/1 [==============================] - 0s 31ms/step\n",
      "de nombreux villes furent détruites par les bombes\n",
      "\n",
      "\n",
      "ANSWER FR>>\n",
      "de nombreuses villes furent détruites par les bombes\n",
      "=====================================================================\n",
      "\n",
      "\n",
      "INPUT ENG>>\n",
      "bear in mind that under such circumstances we have no\n",
      "\n",
      "\n",
      "GENERATED FR>>\n",
      "1/1 [==============================] - 0s 39ms/step\n",
      "1/1 [==============================] - 0s 34ms/step\n",
      "1/1 [==============================] - 0s 32ms/step\n",
      "1/1 [==============================] - 0s 32ms/step\n",
      "1/1 [==============================] - 0s 43ms/step\n",
      "1/1 [==============================] - 0s 30ms/step\n",
      "1/1 [==============================] - 0s 30ms/step\n",
      "1/1 [==============================] - 0s 31ms/step\n",
      "1/1 [==============================] - 0s 30ms/step\n",
      "1/1 [==============================] - 0s 29ms/step\n",
      "1/1 [==============================] - 0s 31ms/step\n",
      "1/1 [==============================] - 0s 30ms/step\n",
      "1/1 [==============================] - 0s 30ms/step\n",
      "fais attention à ce que les circonstances nous n'avons pas pu\n",
      "\n",
      "\n",
      "ANSWER FR>>\n",
      "comprenez bien que dans de telles circonstances nous n'avons pas d'autres alternatives que de trouver un autre\n",
      "=====================================================================\n",
      "\n",
      "\n",
      "INPUT ENG>>\n",
      "i heard the message\n",
      "\n",
      "\n",
      "GENERATED FR>>\n",
      "1/1 [==============================] - 0s 39ms/step\n",
      "1/1 [==============================] - 0s 34ms/step\n",
      "1/1 [==============================] - 0s 34ms/step\n",
      "1/1 [==============================] - 0s 41ms/step\n",
      "1/1 [==============================] - 0s 30ms/step\n",
      "1/1 [==============================] - 0s 32ms/step\n",
      "j'ai entendu le message\n",
      "\n",
      "\n",
      "ANSWER FR>>\n",
      "j'ai entendu le message\n",
      "=====================================================================\n",
      "\n",
      "\n",
      "INPUT ENG>>\n",
      "you are not high enough\n",
      "\n",
      "\n",
      "GENERATED FR>>\n",
      "1/1 [==============================] - 0s 39ms/step\n",
      "1/1 [==============================] - 0s 34ms/step\n",
      "1/1 [==============================] - 0s 31ms/step\n",
      "1/1 [==============================] - 0s 32ms/step\n",
      "1/1 [==============================] - 0s 33ms/step\n",
      "1/1 [==============================] - 0s 30ms/step\n",
      "1/1 [==============================] - 0s 32ms/step\n",
      "tu n'es pas assez grand\n",
      "\n",
      "\n",
      "ANSWER FR>>\n",
      "tu ne pas assez haut\n",
      "=====================================================================\n",
      "\n",
      "\n",
      "INPUT ENG>>\n",
      "i have no food\n",
      "\n",
      "\n",
      "GENERATED FR>>\n",
      "1/1 [==============================] - 0s 39ms/step\n",
      "1/1 [==============================] - 0s 32ms/step\n",
      "1/1 [==============================] - 0s 30ms/step\n",
      "1/1 [==============================] - 0s 34ms/step\n",
      "1/1 [==============================] - 0s 32ms/step\n",
      "1/1 [==============================] - 0s 32ms/step\n",
      "1/1 [==============================] - 0s 32ms/step\n",
      "je n'ai pas de nourriture\n",
      "\n",
      "\n",
      "ANSWER FR>>\n",
      "je n'ai pas de nourriture\n",
      "=====================================================================\n",
      "\n"
     ]
    }
   ],
   "source": [
    "idx = [24,1525,666,2222,52212]\n",
    "\n",
    "print(\"Results on Train Dataset\")\n",
    "for i in idx:\n",
    "    print(\"\\nINPUT ENG>>\")\n",
    "    print(seq2eng(train_encoder_input[i]))\n",
    "    print(\"\\n\")\n",
    "    print(\"GENERATED FR>>\")\n",
    "    print(generate_from_encoder_input(train_encoder_input[i]))\n",
    "    print(\"\\n\")\n",
    "    print(\"ANSWER FR>>\")\n",
    "    print(seq2fr(train_decoder_label[i]))\n",
    "    print(\"=====================================================================\\n\")"
   ]
  },
  {
   "cell_type": "code",
   "execution_count": 35,
   "id": "foreign-omega",
   "metadata": {
    "colab": {
     "base_uri": "https://localhost:8080/"
    },
    "execution": {
     "iopub.execute_input": "2021-04-24T20:28:27.499069Z",
     "iopub.status.busy": "2021-04-24T20:28:27.498323Z",
     "iopub.status.idle": "2021-04-24T20:28:29.452381Z",
     "shell.execute_reply": "2021-04-24T20:28:29.452969Z"
    },
    "id": "foreign-omega",
    "outputId": "c4962304-7df7-4a16-e1bd-29ec4305e070",
    "papermill": {
     "duration": 5.928084,
     "end_time": "2021-04-24T20:28:29.453153",
     "exception": false,
     "start_time": "2021-04-24T20:28:23.525069",
     "status": "completed"
    },
    "tags": []
   },
   "outputs": [
    {
     "name": "stdout",
     "output_type": "stream",
     "text": [
      "Results on Test Dataset\n",
      "\n",
      "INPUT ENG>\n",
      "take all the time you want\n",
      "[90 39  2 47  4 31  0  0  0  0]\n",
      "\n",
      "\n",
      "<<GENERATED FR>>\n",
      "1/1 [==============================] - 0s 36ms/step\n",
      "1/1 [==============================] - 0s 30ms/step\n",
      "1/1 [==============================] - 0s 33ms/step\n",
      "1/1 [==============================] - 0s 31ms/step\n",
      "1/1 [==============================] - 0s 31ms/step\n",
      "1/1 [==============================] - 0s 30ms/step\n",
      "1/1 [==============================] - 0s 32ms/step\n",
      "1/1 [==============================] - 0s 30ms/step\n",
      "1/1 [==============================] - 0s 32ms/step\n",
      "prends tout le temps que tu veux\n",
      "\n",
      "\n",
      "<<ANSWER FR>>\n",
      "prends tout le temps que tu veux\n",
      "[464  34   7  55   6  14  42   2   0   0   0   0   0   0   0   0   0   0\n",
      "   0   0]\n",
      "=====================================================================\n",
      "\n",
      "\n",
      "INPUT ENG>\n",
      "i do not think tom is\n",
      "[ 1  8  7 42  9  5  0  0  0  0]\n",
      "\n",
      "\n",
      "<<GENERATED FR>>\n",
      "1/1 [==============================] - 0s 44ms/step\n",
      "1/1 [==============================] - 0s 30ms/step\n",
      "1/1 [==============================] - 0s 32ms/step\n",
      "1/1 [==============================] - 0s 29ms/step\n",
      "1/1 [==============================] - 0s 33ms/step\n",
      "1/1 [==============================] - 0s 33ms/step\n",
      "1/1 [==============================] - 0s 30ms/step\n",
      "1/1 [==============================] - 0s 31ms/step\n",
      "1/1 [==============================] - 0s 30ms/step\n",
      "je ne pense pas que tom soit\n",
      "\n",
      "\n",
      "<<ANSWER FR>>\n",
      "je ne pense pas que tom soit daltonien\n",
      "[    3    10    65     5     6    12   133 11991     2     0     0     0\n",
      "     0     0     0     0     0     0     0     0]\n",
      "=====================================================================\n",
      "\n",
      "\n",
      "INPUT ENG>\n",
      "do not forget to tip the porter for carrying your\n",
      "[   8    7  401    3 2670    2 5144   22 2889   29]\n",
      "\n",
      "\n",
      "<<GENERATED FR>>\n",
      "1/1 [==============================] - 0s 42ms/step\n",
      "1/1 [==============================] - 0s 36ms/step\n",
      "1/1 [==============================] - 0s 36ms/step\n",
      "1/1 [==============================] - 0s 34ms/step\n",
      "1/1 [==============================] - 0s 31ms/step\n",
      "1/1 [==============================] - 0s 30ms/step\n",
      "1/1 [==============================] - 0s 30ms/step\n",
      "1/1 [==============================] - 0s 31ms/step\n",
      "1/1 [==============================] - 0s 32ms/step\n",
      "1/1 [==============================] - 0s 29ms/step\n",
      "n'oublie pas d'éteindre la poule pour les quatre\n",
      "\n",
      "\n",
      "<<ANSWER FR>>\n",
      "n'oublie pas de donner un pourboire au porteur pour avoir porté tes bagages\n",
      "[1025    5    4  462   16 6368   39 8884   24  127 1811  214 1435    2\n",
      "    0    0    0    0    0    0]\n",
      "=====================================================================\n",
      "\n",
      "\n",
      "INPUT ENG>\n",
      "only young children and old fools tell the truth\n",
      "[ 124  309  192   40  152 5359   88    2  311    0]\n",
      "\n",
      "\n",
      "<<GENERATED FR>>\n",
      "1/1 [==============================] - 0s 41ms/step\n",
      "1/1 [==============================] - 0s 29ms/step\n",
      "1/1 [==============================] - 0s 30ms/step\n",
      "1/1 [==============================] - 0s 32ms/step\n",
      "1/1 [==============================] - 0s 29ms/step\n",
      "1/1 [==============================] - 0s 33ms/step\n",
      "1/1 [==============================] - 0s 32ms/step\n",
      "1/1 [==============================] - 0s 32ms/step\n",
      "1/1 [==============================] - 0s 32ms/step\n",
      "1/1 [==============================] - 0s 32ms/step\n",
      "1/1 [==============================] - 0s 29ms/step\n",
      "1/1 [==============================] - 0s 32ms/step\n",
      "1/1 [==============================] - 0s 32ms/step\n",
      "1/1 [==============================] - 0s 32ms/step\n",
      "seuls les enfants japonais et les vieux sont en train de parler\n",
      "\n",
      "\n",
      "<<ANSWER FR>>\n",
      "il n'y a que les enfants et les vieux fous qui disent la vérité\n",
      "[  11  149   18    6   20  168   43   20  423 2037   38 1182    9  327\n",
      "    2    0    0    0    0    0]\n",
      "=====================================================================\n",
      "\n"
     ]
    }
   ],
   "source": [
    "idx = [24,1525,666,2222]\n",
    "\n",
    "print(\"Results on Test Dataset\")\n",
    "for i in idx:\n",
    "    print(\"\\nINPUT ENG>\")\n",
    "    print(seq2eng(test_encoder_input[i]))\n",
    "    print(test_encoder_input[i])\n",
    "    print(\"\\n\")\n",
    "    print(\"<<GENERATED FR>>\")\n",
    "    print(generate_from_encoder_input(test_encoder_input[i]))\n",
    "    print(\"\\n\")\n",
    "    print(\"<<ANSWER FR>>\")\n",
    "    print(seq2fr(test_decoder_label[i]))\n",
    "    print(test_decoder_label[i])\n",
    "    print(\"=====================================================================\\n\")"
   ]
  },
  {
   "cell_type": "code",
   "execution_count": 45,
   "id": "q-IwkpTStacJ",
   "metadata": {
    "id": "q-IwkpTStacJ"
   },
   "outputs": [],
   "source": [
    "def translate_user_input(user_input):\n",
    "    # Preprocess user input\n",
    "    preprocessed_input = preprocess(user_input, 'english')\n",
    "    print(preprocessed_input)\n",
    "\n",
    "    # Tokenize and pad user input\n",
    "    input_sequence = eng_tok.texts_to_sequences([preprocessed_input])\n",
    "    padded_input_sequence = pad_sequences(input_sequence, padding='post', truncating='post', maxlen=eng_sequence_size)\n",
    "\n",
    "    # Generate translation\n",
    "    generated_translation = generate_from_encoder_input(padded_input_sequence)\n",
    "\n",
    "    return generated_translation\n"
   ]
  },
  {
   "cell_type": "code",
   "execution_count": 46,
   "id": "ziTCKTCVVKXe",
   "metadata": {
    "colab": {
     "base_uri": "https://localhost:8080/"
    },
    "id": "ziTCKTCVVKXe",
    "outputId": "4e4c6d2b-3b39-4d97-9bb5-9de3222e9ef2"
   },
   "outputs": [
    {
     "name": "stdout",
     "output_type": "stream",
     "text": [
      "enter : good morning\n",
      "good morning\n",
      "1/1 [==============================] - 0s 187ms/step\n",
      "1/1 [==============================] - 0s 54ms/step\n",
      "1/1 [==============================] - 0s 35ms/step\n",
      "1/1 [==============================] - 0s 38ms/step\n",
      "English: good morning\n",
      "French Translation: bonne matinée\n"
     ]
    }
   ],
   "source": [
    "user_input_sentence = input(\"enter : \")\n",
    "translated_sentence = translate_user_input(user_input_sentence)\n",
    "\n",
    "print(f\"English: {user_input_sentence}\")\n",
    "print(f\"French Translation: {translated_sentence}\")\n"
   ]
  },
  {
   "cell_type": "code",
   "execution_count": 51,
   "id": "KaPbEBpdVOsX",
   "metadata": {
    "id": "KaPbEBpdVOsX"
   },
   "outputs": [],
   "source": [
    "import requests"
   ]
  },
  {
   "cell_type": "code",
   "execution_count": 52,
   "id": "b2591b11",
   "metadata": {},
   "outputs": [],
   "source": [
    "url=\"\""
   ]
  },
  {
   "cell_type": "code",
   "execution_count": 53,
   "id": "8c629550",
   "metadata": {},
   "outputs": [],
   "source": [
    "import json\n",
    "data=json.dumps(user_input_sentence)"
   ]
  },
  {
   "cell_type": "code",
   "execution_count": 54,
   "id": "79d59a42",
   "metadata": {},
   "outputs": [],
   "source": [
    "r=requests.post(url,data)"
   ]
  },
  {
   "cell_type": "code",
   "execution_count": 55,
   "id": "d086e0d5",
   "metadata": {},
   "outputs": [
    {
     "data": {
      "text/plain": [
       "b'<!doctype html>\\n<html lang=en>\\n<title>500 Internal Server Error</title>\\n<h1>Internal Server Error</h1>\\n<p>The server encountered an internal error and was unable to complete your request. Either the server is overloaded or there is an error in the application.</p>\\n'"
      ]
     },
     "execution_count": 55,
     "metadata": {},
     "output_type": "execute_result"
    }
   ],
   "source": [
    "r.content"
   ]
  },
  {
   "cell_type": "code",
   "execution_count": null,
   "id": "4f51fd8e",
   "metadata": {},
   "outputs": [],
   "source": []
  }
 ],
 "metadata": {
  "accelerator": "GPU",
  "colab": {
   "gpuType": "T4",
   "provenance": []
  },
  "kernelspec": {
   "display_name": "Python 3 (ipykernel)",
   "language": "python",
   "name": "python3"
  },
  "language_info": {
   "codemirror_mode": {
    "name": "ipython",
    "version": 3
   },
   "file_extension": ".py",
   "mimetype": "text/x-python",
   "name": "python",
   "nbconvert_exporter": "python",
   "pygments_lexer": "ipython3",
   "version": "3.11.4"
  },
  "papermill": {
   "default_parameters": {},
   "duration": 25256.478664,
   "end_time": "2021-04-24T20:28:36.219201",
   "environment_variables": {},
   "exception": null,
   "input_path": "__notebook__.ipynb",
   "output_path": "__notebook__.ipynb",
   "parameters": {},
   "start_time": "2021-04-24T13:27:39.740537",
   "version": "2.3.3"
  }
 },
 "nbformat": 4,
 "nbformat_minor": 5
}
